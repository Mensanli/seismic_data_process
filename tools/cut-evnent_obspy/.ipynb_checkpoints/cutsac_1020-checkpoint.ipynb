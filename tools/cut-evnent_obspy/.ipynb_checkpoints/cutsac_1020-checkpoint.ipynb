{
 "cells": [
  {
   "cell_type": "markdown",
   "id": "9621c72f-28f9-4283-94b3-275bd84afcf3",
   "metadata": {},
   "source": [
    "## cut sac file to aimfile"
   ]
  },
  {
   "cell_type": "code",
   "execution_count": 7,
   "id": "272ecf02-07a6-41a0-a291-1187050434d1",
   "metadata": {},
   "outputs": [
    {
     "ename": "FileExistsError",
     "evalue": "[Errno 17] File exists: 'out_sac'",
     "output_type": "error",
     "traceback": [
      "\u001b[0;31m---------------------------------------------------------------------------\u001b[0m",
      "\u001b[0;31mFileExistsError\u001b[0m                           Traceback (most recent call last)",
      "\u001b[0;32m<ipython-input-7-14d9bac926bb>\u001b[0m in \u001b[0;36m<module>\u001b[0;34m\u001b[0m\n\u001b[1;32m     11\u001b[0m \u001b[0mcurrentfile\u001b[0m \u001b[0;34m=\u001b[0m \u001b[0mos\u001b[0m\u001b[0;34m.\u001b[0m\u001b[0mgetcwd\u001b[0m\u001b[0;34m(\u001b[0m\u001b[0;34m)\u001b[0m\u001b[0;34m\u001b[0m\u001b[0;34m\u001b[0m\u001b[0m\n\u001b[1;32m     12\u001b[0m \u001b[0maimdir\u001b[0m \u001b[0;34m=\u001b[0m \u001b[0mos\u001b[0m\u001b[0;34m.\u001b[0m\u001b[0mpath\u001b[0m\u001b[0;34m.\u001b[0m\u001b[0mjoin\u001b[0m\u001b[0;34m(\u001b[0m\u001b[0mcurrentfile\u001b[0m\u001b[0;34m,\u001b[0m \u001b[0moutaim\u001b[0m\u001b[0;34m)\u001b[0m\u001b[0;34m\u001b[0m\u001b[0;34m\u001b[0m\u001b[0m\n\u001b[0;32m---> 13\u001b[0;31m \u001b[0mos\u001b[0m\u001b[0;34m.\u001b[0m\u001b[0mmkdir\u001b[0m\u001b[0;34m(\u001b[0m\u001b[0moutaim\u001b[0m\u001b[0;34m)\u001b[0m\u001b[0;34m\u001b[0m\u001b[0;34m\u001b[0m\u001b[0m\n\u001b[0m\u001b[1;32m     14\u001b[0m \u001b[0;34m\u001b[0m\u001b[0m\n\u001b[1;32m     15\u001b[0m \u001b[0;31m# re slice\u001b[0m\u001b[0;34m\u001b[0m\u001b[0;34m\u001b[0m\u001b[0;34m\u001b[0m\u001b[0m\n",
      "\u001b[0;31mFileExistsError\u001b[0m: [Errno 17] File exists: 'out_sac'"
     ]
    }
   ],
   "source": [
    "from obspy.core import UTCDateTime\n",
    "from obspy import read\n",
    "# from obspy.clients.filesystem.sds import Client as SDS  # /year/sta/\n",
    "import re, os\n",
    "\n",
    "timefile = \"cut_ori_time.txt\"\n",
    "sacfile = \"sac_files.txt\"\n",
    "outaim = \"out_sac\"\n",
    "\n",
    "# aim sac dir \n",
    "currentfile = os.getcwd()\n",
    "aimdir = os.path.join(currentfile, outaim)\n",
    "try:\n",
    "    os.mkdir(outaim)\n",
    "except:\n",
    "    print(\"exist!\")\n",
    "\n",
    "# re slice\n",
    "for time_it in open(timefile,'r').readlines():\n",
    "    time =time_it.strip(\"\\n\").split(\" \")\n",
    "    # print(time[0])\n",
    "    cut_time = UTCDateTime(time[0])\n",
    "    print(cut_time)\n",
    "    outdir_ = re.split('-|:|T',time[0])\n",
    "    #print(outdir_)\n",
    "    outdir0 = outdir_[0]+outdir_[1]+outdir_[2]+outdir_[3]+outdir_[4]+outdir_[5]\n",
    "    outdir = os.path.join(currentfile, \"out_sac\",outdir0)\n",
    "    print(outdir)\n",
    "    try:\n",
    "        os.mkdir(outdir)\n",
    "    except:\n",
    "        continue\n",
    "    for sacs in open(sacfile, 'r').readlines():\n",
    "        sacss = sacs.strip(\"\\n\")\n",
    "        #print(sacss)\n",
    "        sac_file = \"./BHZ.D/\" + sacss\n",
    "        #print(sac_file)\n",
    "        print(sacss)\n",
    "        filesac =sacss.split('.')\n",
    "        saven = \"{}.{}.{}.{}.cut\".format(filesac[0],filesac[1],filesac[3],filesac[8])\n",
    "        fn = \"{}/{}\".format(outdir,saven)\n",
    "        print(fn)\n",
    "        st = read(sac_file)\n",
    "        #print(st)\n",
    "        st_cut = st.slice(cut_time, cut_time + 30)\n",
    "        print(st_cut)\n",
    "        # #\n",
    "        try:\n",
    "            st_cut.write(fn,format=\"sac\")\n",
    "        except:\n",
    "            print(\"Maybe no data\")\n",
    "#     sacs.close()\n",
    "# time_it.close()\n",
    "        \n",
    "        \n",
    "    \n"
   ]
  },
  {
   "cell_type": "code",
   "execution_count": null,
   "id": "afd72478-2b6d-4d69-b648-489960f4f2c5",
   "metadata": {},
   "outputs": [],
   "source": []
  }
 ],
 "metadata": {
  "kernelspec": {
   "display_name": "Python 3",
   "language": "python",
   "name": "python3"
  },
  "language_info": {
   "codemirror_mode": {
    "name": "ipython",
    "version": 3
   },
   "file_extension": ".py",
   "mimetype": "text/x-python",
   "name": "python",
   "nbconvert_exporter": "python",
   "pygments_lexer": "ipython3",
   "version": "3.7.11"
  }
 },
 "nbformat": 4,
 "nbformat_minor": 5
}
